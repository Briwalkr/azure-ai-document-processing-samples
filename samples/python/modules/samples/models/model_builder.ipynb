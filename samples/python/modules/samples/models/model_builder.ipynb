{
 "cells": [
  {
   "cell_type": "code",
   "execution_count": null,
   "id": "ccfb7182",
   "metadata": {},
   "outputs": [],
   "source": [
    "from typing import Generic, List, Optional, TypeVar\n",
    "\n",
    "from pydantic import BaseModel, ValidationError\n",
    "\n",
    "DataT = TypeVar('DataT')\n",
    "\n",
    "\n",
    "class DataModel(BaseModel):\n",
    "    numbers: List[int]\n",
    "    people: List[str]\n",
    "\n",
    "\n",
    "class Response(BaseModel, Generic[DataT]):\n",
    "    data: Optional[DataT] = None\n",
    "\n",
    "\n",
    "print(Response[int](data=1))\n",
    "#> data=1\n",
    "print(Response[str](data='value'))\n",
    "#> data='value'\n",
    "print(Response[str](data='value').model_dump())\n",
    "#> {'data': 'value'}\n",
    "\n",
    "data = DataModel(numbers=[1, 2, 3], people=[])\n",
    "print(Response[DataModel](data=data).model_dump())\n",
    "#> {'data': {'numbers': [1, 2, 3], 'people': []}}\n",
    "try:\n",
    "    Response[int](data='value')\n",
    "except ValidationError as e:\n",
    "    print(e)\n",
    "    \"\"\"\n",
    "    1 validation error for Response[int]\n",
    "    data\n",
    "      Input should be a valid integer, unable to parse string as an integer [type=int_parsing, input_value='value', input_type=str]\n",
    "    \"\"\""
   ]
  },
  {
   "cell_type": "markdown",
   "id": "8b911387",
   "metadata": {},
   "source": [
    "### Import Dependencies"
   ]
  },
  {
   "cell_type": "code",
   "execution_count": 1,
   "id": "b7cf9496",
   "metadata": {},
   "outputs": [],
   "source": [
    "from typing import Generic, List, Optional, TypeVar\n",
    "from pydantic import BaseModel, ValidationError"
   ]
  },
  {
   "cell_type": "code",
   "execution_count": 2,
   "id": "abd1e29e",
   "metadata": {},
   "outputs": [],
   "source": [
    "DataT = TypeVar('DataT')"
   ]
  },
  {
   "cell_type": "code",
   "execution_count": 3,
   "id": "256aa0d4",
   "metadata": {},
   "outputs": [],
   "source": [
    "class DataModel(BaseModel):\n",
    "    numbers: List[int]\n",
    "    people: List[str]\n",
    "\n",
    "\n",
    "class Response(BaseModel, Generic[DataT]):\n",
    "    data: Optional[DataT] = None"
   ]
  },
  {
   "cell_type": "code",
   "execution_count": 4,
   "id": "869525c7",
   "metadata": {},
   "outputs": [
    {
     "name": "stdout",
     "output_type": "stream",
     "text": [
      "data='value'\n",
      "{'data': 'value'}\n"
     ]
    }
   ],
   "source": [
    "#> data=1\n",
    "print(Response[str](data='value'))\n",
    "#> data='value'\n",
    "print(Response[str](data='value').model_dump())\n",
    "#> {'data': 'value'}"
   ]
  },
  {
   "cell_type": "code",
   "execution_count": 5,
   "id": "8fd5df78",
   "metadata": {},
   "outputs": [
    {
     "name": "stdout",
     "output_type": "stream",
     "text": [
      "{'data': {'numbers': [1, 2, 3], 'people': []}}\n",
      "1 validation error for Response[int]\n",
      "data\n",
      "  Input should be a valid integer, unable to parse string as an integer [type=int_parsing, input_value='value', input_type=str]\n",
      "    For further information visit https://errors.pydantic.dev/2.10/v/int_parsing\n"
     ]
    }
   ],
   "source": [
    "data = DataModel(numbers=[1, 2, 3], people=[])\n",
    "print(Response[DataModel](data=data).model_dump())\n",
    "#> {'data': {'numbers': [1, 2, 3], 'people': []}}\n",
    "try:\n",
    "    Response[int](data='value')\n",
    "except ValidationError as e:\n",
    "    print(e)\n",
    "    \"\"\"\n",
    "    1 validation error for Response[int]\n",
    "    data\n",
    "      Input should be a valid integer, unable to parse string as an integer [type=int_parsing, input_value='value', input_type=str]\n",
    "    \"\"\""
   ]
  }
 ],
 "metadata": {
  "kernelspec": {
   "display_name": "Python 3",
   "language": "python",
   "name": "python3"
  },
  "language_info": {
   "codemirror_mode": {
    "name": "ipython",
    "version": 3
   },
   "file_extension": ".py",
   "mimetype": "text/x-python",
   "name": "python",
   "nbconvert_exporter": "python",
   "pygments_lexer": "ipython3",
   "version": "3.12.10"
  }
 },
 "nbformat": 4,
 "nbformat_minor": 5
}
