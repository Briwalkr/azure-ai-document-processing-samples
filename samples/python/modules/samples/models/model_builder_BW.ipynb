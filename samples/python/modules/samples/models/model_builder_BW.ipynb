{
 "cells": [
  {
   "cell_type": "code",
   "execution_count": 10,
   "id": "79b17f17",
   "metadata": {},
   "outputs": [],
   "source": [
    "import os\n",
    "from typing import Optional\n",
    "from pydantic import BaseModel, Field\n",
    "from acord25 import Acord25"
   ]
  },
  {
   "cell_type": "code",
   "execution_count": 13,
   "id": "a94f83e7",
   "metadata": {},
   "outputs": [
    {
     "name": "stdout",
     "output_type": "stream",
     "text": [
      "Loading metadata from: c:\\Git\\FY26\\azure-ai-document-processing-samples\\samples\\assets\\forms\\acord25.json\n"
     ]
    }
   ],
   "source": [
    "# Set the working directory to the root of the repo\n",
    "working_dir = os.path.abspath('../../../../')\n",
    "path = f\"{working_dir}\\\\assets\\\\forms\\\\\"\n",
    "metadata_fname = \"acord25.json\" # Change this to the file you want to evaluate\n",
    "metadata_fpath = f\"{path}{metadata_fname}\"\n",
    "print(f\"Loading metadata from: {metadata_fpath}\")"
   ]
  },
  {
   "cell_type": "code",
   "execution_count": 14,
   "id": "8351f29f",
   "metadata": {},
   "outputs": [
    {
     "name": "stdout",
     "output_type": "stream",
     "text": [
      "Evaluating:  ACORD_25_Completed.pdf\n"
     ]
    }
   ],
   "source": [
    "\n",
    "\n",
    "with open(metadata_fpath, \"r\") as f:\n",
    "    data = json.load(f)\n",
    "\n",
    "#expected = Acord25(**data['0_expected'])\n",
    "pdf_fname = data['fname']\n",
    "pdf_fpath = f\"{path}{pdf_fname}\"\n",
    "\n",
    "#invoice_evaluator = AccuracyEvaluator(match_keys=['product_code', 'description']) # Product Code and Descriptions are used to match the extracted product items data\n",
    "print(f\"Evaluating:  {pdf_fname}\")"
   ]
  },
  {
   "cell_type": "code",
   "execution_count": 15,
   "id": "7c02640a",
   "metadata": {},
   "outputs": [],
   "source": [
    "expected = Acord25.model_construct(**data['0_expected'])"
   ]
  },
  {
   "cell_type": "code",
   "execution_count": 17,
   "id": "e49bb7ae",
   "metadata": {},
   "outputs": [
    {
     "name": "stdout",
     "output_type": "stream",
     "text": [
      "Expected data loaded: certificate_date='05/05/2025' producer_name='Contoso Insurance' producer_address={'street': '1122 Insurance Way', 'city': 'Nowheresville', 'state': 'MA', 'postal_code': '12345', 'country': 'USA'} insured_name='Adventure Works Construction Co.' insured_address={'street': '123 Icanfixit Dr', 'city': 'Mechanicsville', 'state': 'VA', 'postal_code': '23111', 'country': 'USA'} insurer_affording_coverage_a='ABC Insurance' insurer_affording_coverage_a_naic='1234' insurer_affording_coverage_b='Progressive Casualty Insurance Company' insurer_affording_coverage_b_naic='24260' insurer_affording_coverage_c=None insurer_affording_coverage_c_naic=None insurer_affording_coverage_d=None insurer_affording_coverage_d_naic=None insurer_affording_coverage_e=None insurer_affording_coverage_e_naic=None insurer_affording_coverage_f=None insurer_affording_coverage_f_naic=None certificate_number='2025050500123' revision_number=None\n"
     ]
    }
   ],
   "source": [
    "print(f\"Expected data loaded: {expected}\")"
   ]
  },
  {
   "cell_type": "code",
   "execution_count": 18,
   "id": "caba481a",
   "metadata": {},
   "outputs": [
    {
     "name": "stdout",
     "output_type": "stream",
     "text": [
      "{\n",
      "  \"certificate_date\": \"05/05/2025\",\n",
      "  \"producer_name\": \"Contoso Insurance\",\n",
      "  \"producer_address\": {\n",
      "    \"street\": \"1122 Insurance Way\",\n",
      "    \"city\": \"Nowheresville\",\n",
      "    \"state\": \"MA\",\n",
      "    \"postal_code\": \"12345\",\n",
      "    \"country\": \"USA\"\n",
      "  },\n",
      "  \"insured_name\": \"Adventure Works Construction Co.\",\n",
      "  \"insured_address\": {\n",
      "    \"street\": \"123 Icanfixit Dr\",\n",
      "    \"city\": \"Mechanicsville\",\n",
      "    \"state\": \"VA\",\n",
      "    \"postal_code\": \"23111\",\n",
      "    \"country\": \"USA\"\n",
      "  },\n",
      "  \"insurer_affording_coverage_a\": \"ABC Insurance\",\n",
      "  \"insurer_affording_coverage_a_naic\": \"1234\",\n",
      "  \"insurer_affording_coverage_b\": \"Progressive Casualty Insurance Company\",\n",
      "  \"insurer_affording_coverage_b_naic\": \"24260\",\n",
      "  \"insurer_affording_coverage_c\": null,\n",
      "  \"insurer_affording_coverage_c_naic\": null,\n",
      "  \"insurer_affording_coverage_d\": null,\n",
      "  \"insurer_affording_coverage_d_naic\": null,\n",
      "  \"insurer_affording_coverage_e\": null,\n",
      "  \"insurer_affording_coverage_e_naic\": null,\n",
      "  \"insurer_affording_coverage_f\": null,\n",
      "  \"insurer_affording_coverage_f_naic\": null,\n",
      "  \"certificate_number\": \"2025050500123\",\n",
      "  \"revision_number\": null\n",
      "}\n"
     ]
    },
    {
     "name": "stderr",
     "output_type": "stream",
     "text": [
      "C:\\Users\\brwalker\\AppData\\Roaming\\Python\\Python312\\site-packages\\pydantic\\main.py:426: UserWarning: Pydantic serializer warnings:\n",
      "  Expected `Address` but got `dict` with value `{'street': '1122 Insuranc...2345', 'country': 'USA'}` - serialized value may not be as expected\n",
      "  Expected `Address` but got `dict` with value `{'street': '123 Icanfixit...3111', 'country': 'USA'}` - serialized value may not be as expected\n",
      "  return self.__pydantic_serializer__.to_python(\n"
     ]
    }
   ],
   "source": [
    "import json\n",
    "\n",
    "# Convert the Pydantic model to a dictionary and display as formatted JSON\n",
    "expected_dict = expected.model_dump()\n",
    "print(json.dumps(expected_dict, indent=2))"
   ]
  }
 ],
 "metadata": {
  "kernelspec": {
   "display_name": "Python 3",
   "language": "python",
   "name": "python3"
  },
  "language_info": {
   "codemirror_mode": {
    "name": "ipython",
    "version": 3
   },
   "file_extension": ".py",
   "mimetype": "text/x-python",
   "name": "python",
   "nbconvert_exporter": "python",
   "pygments_lexer": "ipython3",
   "version": "3.12.10"
  }
 },
 "nbformat": 4,
 "nbformat_minor": 5
}
